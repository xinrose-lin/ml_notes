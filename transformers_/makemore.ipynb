{
 "cells": [
  {
   "cell_type": "code",
   "execution_count": 1,
   "metadata": {},
   "outputs": [
    {
     "name": "stderr",
     "output_type": "stream",
     "text": [
      "c:\\Users\\User\\AppData\\Local\\Programs\\Python\\Python310\\lib\\site-packages\\tqdm\\auto.py:22: TqdmWarning: IProgress not found. Please update jupyter and ipywidgets. See https://ipywidgets.readthedocs.io/en/stable/user_install.html\n",
      "  from .autonotebook import tqdm as notebook_tqdm\n"
     ]
    }
   ],
   "source": [
    "import torch\n",
    "import torch.nn.functional as F\n",
    "import matplotlib.pyplot as plt # for making figures\n",
    "%matplotlib inline"
   ]
  },
  {
   "cell_type": "markdown",
   "metadata": {},
   "source": [
    "### to review: tidy up\n",
    "\n",
    "key learning obj / observations: \n",
    "- how does optimisation change with: \n",
    "    - batch size, learning rate \n",
    "    - network size \n",
    "    - embedding size\n",
    "\n",
    "- visualisation of embeddings: (through Dimension, Reduction)\n",
    "    - TODO: interesting, an element of representation learning \n",
    "\n",
    "- side notes: \n",
    "    - nll vs cross entropy\n",
    "    - pytorch internals"
   ]
  },
  {
   "cell_type": "code",
   "execution_count": null,
   "metadata": {},
   "outputs": [],
   "source": []
  },
  {
   "cell_type": "markdown",
   "metadata": {},
   "source": [
    "# Makemore\n",
    "- side notes: \n",
    "    - logits: interpreting final layer output, as a log of counts (before it is transformed, into counts, then probabilities)\n",
    "\n",
    "- part 1: bigrams training\n",
    "    - estimate parameters: probability distribution for sampling: \n",
    "        - method 1:by counting (statistical/feature method): 2.47\n",
    "        - method 2: by NN: gradient based learning: also around 2.46\n",
    "            - with one hot encoding, it acts as index, into weights (logits output)\n",
    "    - model smoothing: creates a more uniform prob distribution, to prevent zero prob assigned to any token (but without causing too much loss in information)\n",
    "        - method 1: by adding 1 / a constant, to smooth the probability distribution (make it more uniform), to prevent extremes (eg. zeros)\n",
    "        - method 2:\n",
    "            - if W is initialised to the same value, (eg. zero, then logits w be zero, prob = 1)\n",
    "            - incentivising W to be near zero, \n",
    "            - by add W**2 as regularisation term to loss function; \n",
    "            - without overpowering W learning (loss term) by adding a constant to control the 'strength' of regularisation term\n",
    "        \n",
    "- step 2: MLP \n",
    "    - dataset: increase context length\n",
    "    - model: \n",
    "        - improved embedding \n",
    "        - cross entropy loss (same, but better than average neg log likelihood from softmax)\n",
    "    - model training: (design considerations, how to improve ml training)\n",
    "        - overfitting\n",
    "        - batch training\n",
    "        - learning rate\n",
    "        - train/val/test split\n",
    "\n",
    "    - experiments: (w design features)\n",
    "        - increase hidden layers, embed size..\n",
    "        - viz character embeddings O_O\n",
    "\n",
    "    - notes: hidden layers, internal of torch.tensor!\n",
    "\n",
    "- step 3: internals of MLP \n",
    "    - common problems/model behaviours:\n",
    "        - model initialisation\n",
    "        - saturated tanh\n",
    "        \n",
    "    - build up of nn.linear, batchnorm, tanh\n",
    "\n",
    "- ((step 4: MLP/tensor-level backprop: (exercise!)\n",
    "    - cross entropy loss, linear layer, tanh, batch norm, 1st linear layer, embedding))\n",
    "\n",
    "- step 5: DL development - Part 3 code into pytorch, and CNN \n",
    "    - notes: torch.nn (!!), multidimension tensor shape\n",
    "\n",
    "- step 6: GPT (transformer): \n",
    "    - attention \n",
    "    - mech int \n"
   ]
  },
  {
   "cell_type": "markdown",
   "metadata": {},
   "source": [
    "## NN with single layer"
   ]
  },
  {
   "cell_type": "code",
   "execution_count": 24,
   "metadata": {},
   "outputs": [
    {
     "data": {
      "text/plain": [
       "torch.int64"
      ]
     },
     "execution_count": 24,
     "metadata": {},
     "output_type": "execute_result"
    }
   ],
   "source": [
    "xs = torch.tensor([0, 5, 13, 13, 1])\n",
    "ys = torch.tensor([5, 13, 13, 1, 0])\n",
    "ys.dtype"
   ]
  },
  {
   "cell_type": "code",
   "execution_count": 47,
   "metadata": {},
   "outputs": [
    {
     "data": {
      "text/plain": [
       "torch.float32"
      ]
     },
     "execution_count": 47,
     "metadata": {},
     "output_type": "execute_result"
    }
   ],
   "source": [
    "# INITIALISE NETWORK \n",
    "# random initialisation of 27 neuron weights \n",
    "g = torch.Generator().manual_seed(2147483647)\n",
    "W = torch.randn((27, 27), generator=g, requires_grad=True)\n",
    "W.dtype"
   ]
  },
  {
   "cell_type": "code",
   "execution_count": 55,
   "metadata": {},
   "outputs": [
    {
     "name": "stdout",
     "output_type": "stream",
     "text": [
      "torch.float32\n",
      "torch.float32\n"
     ]
    },
    {
     "data": {
      "text/plain": [
       "tensor(5.4286, grad_fn=<NegBackward0>)"
      ]
     },
     "execution_count": 55,
     "metadata": {},
     "output_type": "execute_result"
    }
   ],
   "source": [
    "# forward pass \n",
    "\n",
    "# one hot encoding (embedding, project data to dimension 27)\n",
    "xenc = F.one_hot(xs, num_classes=27).float()\n",
    "# SIDE_NOTE: requires same dtype\n",
    "print(xenc.dtype)\n",
    "print(W.dtype)\n",
    "\n",
    "# predict log counts (data * 27 @ 27 * 27)\n",
    "logits = xenc @ W\n",
    "# print(logits)\n",
    "# softmax: log exp ; and normalise - for prob of next token\n",
    "counts = logits.exp()\n",
    "probs = counts / counts.sum()\n",
    "\n",
    "# eval: avg neg log likelihood\n",
    "loss = -probs[torch.arange(5), ys].log().mean()"
   ]
  },
  {
   "cell_type": "code",
   "execution_count": 50,
   "metadata": {},
   "outputs": [],
   "source": [
    "## backward : compute gradients for all weights wrt to loss  \n",
    "W.grad = None\n",
    "loss.backward()"
   ]
  },
  {
   "cell_type": "code",
   "execution_count": 54,
   "metadata": {},
   "outputs": [],
   "source": [
    "# update parameters based on gradients, to min loss \n",
    "# with learning rate \n",
    "W.data += -0.1 * W.grad"
   ]
  },
  {
   "cell_type": "code",
   "execution_count": 38,
   "metadata": {},
   "outputs": [
    {
     "data": {
      "text/plain": [
       "(tensor(0.0039),\n",
       " tensor(0.0041),\n",
       " tensor(0.0042),\n",
       " tensor(0.0116),\n",
       " tensor(0.0021))"
      ]
     },
     "execution_count": 38,
     "metadata": {},
     "output_type": "execute_result"
    }
   ],
   "source": [
    "# loss : by average neg log likelihood \n",
    "# maximise likelihood of correct ground truth data \n",
    "# (by mle)\n",
    "\n",
    "# ground trutsh\n",
    "probs[0, 5], probs[1, 13], probs[2, 13], probs[3, 1], probs[4, 0]\n"
   ]
  },
  {
   "cell_type": "code",
   "execution_count": 40,
   "metadata": {},
   "outputs": [
    {
     "data": {
      "text/plain": [
       "tensor([0, 1, 2, 3, 4])"
      ]
     },
     "execution_count": 40,
     "metadata": {},
     "output_type": "execute_result"
    }
   ],
   "source": [
    "torch.arange(5)"
   ]
  },
  {
   "cell_type": "code",
   "execution_count": 41,
   "metadata": {},
   "outputs": [
    {
     "data": {
      "text/plain": [
       "tensor([0.0039, 0.0041, 0.0042, 0.0116, 0.0021])"
      ]
     },
     "execution_count": 41,
     "metadata": {},
     "output_type": "execute_result"
    }
   ],
   "source": [
    "# get average log likelihood\n",
    "# access by array \n",
    "probs[torch.arange(5), ys]"
   ]
  },
  {
   "cell_type": "code",
   "execution_count": 42,
   "metadata": {},
   "outputs": [
    {
     "data": {
      "text/plain": [
       "tensor(-5.4286)"
      ]
     },
     "execution_count": 42,
     "metadata": {},
     "output_type": "execute_result"
    }
   ],
   "source": [
    "probs[torch.arange(5), ys].log().mean()"
   ]
  },
  {
   "cell_type": "code",
   "execution_count": null,
   "metadata": {},
   "outputs": [],
   "source": [
    "## compile into final training script \n",
    "## sample from "
   ]
  },
  {
   "cell_type": "markdown",
   "metadata": {},
   "source": [
    "## MLP with 2 layers"
   ]
  },
  {
   "cell_type": "markdown",
   "metadata": {},
   "source": [
    "### Dataset"
   ]
  },
  {
   "cell_type": "code",
   "execution_count": 4,
   "metadata": {},
   "outputs": [
    {
     "data": {
      "text/plain": [
       "['emma', 'olivia', 'ava', 'isabella', 'sophia', 'charlotte', 'mia', 'amelia']"
      ]
     },
     "execution_count": 4,
     "metadata": {},
     "output_type": "execute_result"
    }
   ],
   "source": [
    "words = open('data/names.txt', 'r').read().splitlines()\n",
    "words[:8]\n"
   ]
  },
  {
   "cell_type": "code",
   "execution_count": 71,
   "metadata": {},
   "outputs": [
    {
     "name": "stdout",
     "output_type": "stream",
     "text": [
      "dict_items([('a', 1), ('b', 2), ('c', 3), ('d', 4), ('e', 5), ('f', 6), ('g', 7), ('h', 8), ('i', 9), ('j', 10), ('k', 11), ('l', 12), ('m', 13), ('n', 14), ('o', 15), ('p', 16), ('q', 17), ('r', 18), ('s', 19), ('t', 20), ('u', 21), ('v', 22), ('w', 23), ('x', 24), ('y', 25), ('z', 26), ('.', 0)])\n",
      "{1: 'a', 2: 'b', 3: 'c', 4: 'd', 5: 'e', 6: 'f', 7: 'g', 8: 'h', 9: 'i', 10: 'j', 11: 'k', 12: 'l', 13: 'm', 14: 'n', 15: 'o', 16: 'p', 17: 'q', 18: 'r', 19: 's', 20: 't', 21: 'u', 22: 'v', 23: 'w', 24: 'x', 25: 'y', 26: 'z', 0: '.'}\n"
     ]
    }
   ],
   "source": [
    "# build 'tokenizer' mapping \n",
    "chars = sorted(list(set(\"\".join(words))))\n",
    "stoi = {s:i+1 for i, s in enumerate(chars)}\n",
    "# note end of line\n",
    "stoi['.'] = 0\n",
    "print(stoi.items())\n",
    "\n",
    "itos = {i:s for s, i in stoi.items()}\n",
    "print(itos)\n"
   ]
  },
  {
   "cell_type": "code",
   "execution_count": 215,
   "metadata": {},
   "outputs": [],
   "source": [
    "# build dataset\n",
    "# TODO: how do we consider an appropriate context length\n",
    "block_size = 3 # context length: to support prediction\n",
    "\n",
    "X, y = [], []\n",
    "\n",
    "for w in words:\n",
    "    # print(w)\n",
    "    # padded context\n",
    "    context = [0] * block_size\n",
    "    for ch in w + '.': \n",
    "        idx = stoi[ch]\n",
    "        X.append(context)\n",
    "        y.append(idx)\n",
    "        # print(\"\".join(itos[i] for i in context), '-->', itos[idx])\n",
    "        context = context[1:] + [idx]\n",
    "X = torch.tensor(X)\n",
    "y = torch.tensor(y)"
   ]
  },
  {
   "cell_type": "code",
   "execution_count": 216,
   "metadata": {},
   "outputs": [
    {
     "data": {
      "text/plain": [
       "(torch.Size([228146, 3]), torch.int64, torch.Size([228146]), torch.int64)"
      ]
     },
     "execution_count": 216,
     "metadata": {},
     "output_type": "execute_result"
    }
   ],
   "source": [
    "X.shape, X.dtype, y.shape, y.dtype"
   ]
  },
  {
   "cell_type": "markdown",
   "metadata": {},
   "source": [
    "### embedding layer"
   ]
  },
  {
   "cell_type": "code",
   "execution_count": 82,
   "metadata": {},
   "outputs": [
    {
     "data": {
      "text/plain": [
       "torch.Size([32, 3, 2])"
      ]
     },
     "execution_count": 82,
     "metadata": {},
     "output_type": "execute_result"
    }
   ],
   "source": [
    "# embedding layer \n",
    "E = torch.randn((27, 2))\n",
    "E[5] # fifth index embedding\n",
    "emb = E[X] # vector indexing\n",
    "emb.shape"
   ]
  },
  {
   "cell_type": "code",
   "execution_count": 133,
   "metadata": {},
   "outputs": [],
   "source": [
    "# model layer (hidden layer)\n",
    "# TODO: rand vs randn?\n",
    "# NOTE: design variable - no of neurons in W1\n",
    "# inputs to layer = 3*2 (3 inputs of 2 dimensional embeddings)\n",
    "W1 = torch.randn((6, 100))\n",
    "b1 = torch.randn(100)"
   ]
  },
  {
   "cell_type": "code",
   "execution_count": 140,
   "metadata": {},
   "outputs": [
    {
     "data": {
      "text/plain": [
       "torch.Size([32, 6])"
      ]
     },
     "execution_count": 140,
     "metadata": {},
     "output_type": "execute_result"
    }
   ],
   "source": [
    "## torch.cat\n",
    "torch.cat\n",
    "torch.cat([emb[:, 0, :], emb[:, 1, :], emb[:, 2, :]], dim=1).shape\n",
    "# dim -2 / 0 - 15, 6 : across rows?\n",
    "# dim -1 / 1 - 5, 6 : across columns?"
   ]
  },
  {
   "cell_type": "code",
   "execution_count": 138,
   "metadata": {},
   "outputs": [
    {
     "data": {
      "text/plain": [
       "torch.Size([32, 6])"
      ]
     },
     "execution_count": 138,
     "metadata": {},
     "output_type": "execute_result"
    }
   ],
   "source": [
    "torch.cat(torch.unbind(emb, 1), 1).shape\n"
   ]
  },
  {
   "cell_type": "code",
   "execution_count": 134,
   "metadata": {},
   "outputs": [
    {
     "data": {
      "text/plain": [
       "tensor([[ 3.0778,  1.1801, -0.4492,  ..., -3.1316, -0.4415, -1.3132],\n",
       "        [ 1.8663,  0.5796, -1.4434,  ..., -2.8789, -0.8379, -0.2752],\n",
       "        [-1.2311, -1.9442, -1.1858,  ..., -1.0965,  0.8735,  0.8947],\n",
       "        ...,\n",
       "        [-1.3761, -0.3573, -2.9813,  ...,  2.0993, -0.2359,  0.6722],\n",
       "        [ 2.3641,  4.3429, -7.5268,  ..., -3.1403, -1.9140, -1.1068],\n",
       "        [ 2.7147, -0.4686, -3.2007,  ...,  0.7976,  0.2672,  1.3939]])"
      ]
     },
     "execution_count": 134,
     "metadata": {},
     "output_type": "execute_result"
    }
   ],
   "source": [
    "emb.view(32, 6) @ W1 # embed context length, to 2 dimensions"
   ]
  },
  {
   "cell_type": "markdown",
   "metadata": {},
   "source": [
    "### MLP model\n",
    "\n",
    "key notes: familiarity with dimensions in pytorch\n",
    "- embedding: \n",
    "    - -> rep learning / generalisation / dimension reduction - so that similar words will be known to be similar?\n",
    "- layers: matrix multiplication\n",
    "    - 6 due to context length (3) * dimension (2)\n",
    "    - no of neurons: design choice - 100 \n",
    "- loss function: \n",
    "    - neg log likelihood \n",
    "    - cross entropy"
   ]
  },
  {
   "cell_type": "code",
   "execution_count": 143,
   "metadata": {},
   "outputs": [
    {
     "data": {
      "text/plain": [
       "(torch.Size([32, 3]), torch.Size([32]))"
      ]
     },
     "execution_count": 143,
     "metadata": {},
     "output_type": "execute_result"
    }
   ],
   "source": [
    "X.shape, y.shape"
   ]
  },
  {
   "cell_type": "code",
   "execution_count": 255,
   "metadata": {},
   "outputs": [
    {
     "name": "stdout",
     "output_type": "stream",
     "text": [
      "54\n",
      "600\n",
      "100\n",
      "2700\n",
      "27\n",
      "total: 3481\n"
     ]
    }
   ],
   "source": [
    "# MODEL \n",
    "\n",
    "# set random seed, initialisation of weights \n",
    "g = torch.Generator().manual_seed(2147483647)\n",
    "\n",
    "# embedding 27 vocab to 2 dimensions \n",
    "E = torch.randn((27, 2), generator=g)\n",
    "\n",
    "# weights \n",
    "# TODO; explore different hidden layers\n",
    "W1 = torch.randn((6, 100), generator=g)\n",
    "b1 = torch.randn(100, generator=g)\n",
    "\n",
    "W2 = torch.randn((100, 27), generator=g)\n",
    "b2 = torch.randn(27, generator=g)\n",
    "\n",
    "parameters = [E, W1, b1, W2, b2] \n",
    "\n",
    "for p in parameters: \n",
    "    print(p.nelement())\n",
    "\n",
    "for p in parameters: \n",
    "    p.requires_grad = True\n",
    "    \n",
    "# total \n",
    "print('total:', sum(p.nelement() for p in parameters))\n",
    "\n"
   ]
  },
  {
   "cell_type": "markdown",
   "metadata": {},
   "source": [
    "### Training"
   ]
  },
  {
   "cell_type": "markdown",
   "metadata": {},
   "source": [
    "#### mini batch"
   ]
  },
  {
   "cell_type": "code",
   "execution_count": 272,
   "metadata": {},
   "outputs": [
    {
     "name": "stdout",
     "output_type": "stream",
     "text": [
      "3.9616971015930176\n",
      "2.915214776992798\n",
      "3.1737558841705322\n",
      "3.370018482208252\n",
      "3.246100902557373\n",
      "3.529658317565918\n",
      "4.088659763336182\n",
      "3.209925651550293\n",
      "3.4908461570739746\n",
      "2.9342212677001953\n"
     ]
    }
   ],
   "source": [
    "for _ in range(10): \n",
    "\n",
    "    # mini batch construct: \n",
    "    # get samples of 32 data points to approximate data\n",
    "    # by indexing into dataset\n",
    "    idx = torch.randint(0, X.shape[0], (32, ))\n",
    "\n",
    "    # forward w cross entropy\n",
    "    emb = E[X[idx]]\n",
    "    h1 = torch.tanh(emb.view(emb.shape[0], 6) @ W1 + b1) #(32, 100)\n",
    "    logits = h1 @ W2 + b2 # (32, 27)\n",
    "    loss = F.cross_entropy(logits, y[idx])\n",
    "    print(loss.item())\n",
    "    # backward pass \n",
    "    # reset gradients \n",
    "    for p in parameters: \n",
    "        p.grad = None\n",
    "    # call backward on loss function\n",
    "    loss.backward()\n",
    "\n",
    "    for p in parameters: \n",
    "        p.data += -0.1 * p.grad"
   ]
  },
  {
   "cell_type": "markdown",
   "metadata": {},
   "source": [
    "#### learning rate"
   ]
  },
  {
   "cell_type": "code",
   "execution_count": 247,
   "metadata": {},
   "outputs": [
    {
     "data": {
      "text/plain": [
       "torch.Size([50])"
      ]
     },
     "execution_count": 247,
     "metadata": {},
     "output_type": "execute_result"
    }
   ],
   "source": [
    "# to explore the space between 0.001 - 1\n",
    "lre = torch.linspace(-3, 0, 50)\n",
    "lrs = 10**lre\n",
    "lrs.shape\n"
   ]
  },
  {
   "cell_type": "code",
   "execution_count": 251,
   "metadata": {},
   "outputs": [
    {
     "data": {
      "text/plain": [
       "torch.Size([32])"
      ]
     },
     "execution_count": 251,
     "metadata": {},
     "output_type": "execute_result"
    }
   ],
   "source": [
    "idx = torch.randint(0, X.shape[0], (32, ))\n",
    "idx.shape"
   ]
  },
  {
   "cell_type": "code",
   "execution_count": 252,
   "metadata": {},
   "outputs": [],
   "source": [
    "lr_list = []\n",
    "loss_list = []\n",
    "for i in range(50): \n",
    "\n",
    "    # mini batch construct: \n",
    "    # get samples of 32 data points to approximate data\n",
    "    # by indexing into dataset\n",
    "    idx = torch.randint(0, X.shape[0], (32, ))\n",
    "\n",
    "    # forward w cross entropy\n",
    "    emb = E[X[idx]]\n",
    "    h1 = torch.tanh(emb.view(emb.shape[0], 6) @ W1 + b1) #(32, 100)\n",
    "    logits = h1 @ W2 + b2 # (32, 27)\n",
    "    loss = F.cross_entropy(logits, y[idx])\n",
    "    # print(loss.item())\n",
    "    # backward pass \n",
    "    # reset gradients \n",
    "    for p in parameters: \n",
    "        p.grad = None\n",
    "    # call backward on loss function\n",
    "    loss.backward()\n",
    "    lr = lrs[i]\n",
    "\n",
    "    for p in parameters: \n",
    "        p.data += -lr * p.grad\n",
    "\n",
    "    lr_list.append(lr)\n",
    "    loss_list.append(loss.item())\n"
   ]
  },
  {
   "cell_type": "code",
   "execution_count": 249,
   "metadata": {},
   "outputs": [
    {
     "data": {
      "text/plain": [
       "[<matplotlib.lines.Line2D at 0x1b784d259c0>]"
      ]
     },
     "execution_count": 249,
     "metadata": {},
     "output_type": "execute_result"
    },
    {
     "data": {
      "image/png": "[encoded data removed]",
      "text/plain": [
       "<Figure size 640x480 with 1 Axes>"
      ]
     },
     "metadata": {},
     "output_type": "display_data"
    }
   ],
   "source": [
    "import matplotlib.pyplot as plt\n",
    "plt.plot(lr_list, loss_list)"
   ]
  },
  {
   "cell_type": "markdown",
   "metadata": {},
   "source": [
    "#### train/validation/test\n",
    "- train: to train parameters\n",
    "- validation: to train hyperparameters\n",
    "- test: to test\n",
    "\n",
    "\n",
    "- increase model size: \n",
    "    - would require longer training time \n"
   ]
  },
  {
   "cell_type": "code",
   "execution_count": null,
   "metadata": {},
   "outputs": [],
   "source": [
    "# MODEL \n",
    "\n",
    "# set random seed, initialisation of weights \n",
    "g = torch.Generator().manual_seed(2147483647)\n",
    "\n",
    "# embedding 27 vocab to 2 dimensions \n",
    "E = torch.randn((27, 2), generator=g)\n",
    "\n",
    "# weights \n",
    "# TODO; explore different hidden layers\n",
    "W1 = torch.randn((6, 100), generator=g)\n",
    "b1 = torch.randn(100, generator=g)\n",
    "\n",
    "W2 = torch.randn((100, 27), generator=g)\n",
    "b2 = torch.randn(27, generator=g)\n",
    "\n",
    "parameters = [E, W1, b1, W2, b2] \n",
    "\n",
    "for p in parameters: \n",
    "    print(p.nelement())\n",
    "\n",
    "for p in parameters: \n",
    "    p.requires_grad = True\n",
    "    \n",
    "# total \n",
    "print('total:', sum(p.nelement() for p in parameters))\n"
   ]
  },
  {
   "cell_type": "code",
   "execution_count": 267,
   "metadata": {},
   "outputs": [
    {
     "name": "stdout",
     "output_type": "stream",
     "text": [
      "torch.Size([182437, 3]) torch.Size([182437])\n",
      "train size 25626\n",
      "torch.Size([22781, 3]) torch.Size([22781])\n",
      "val size 3203\n",
      "torch.Size([22928, 3]) torch.Size([22928])\n",
      "test size 3204\n"
     ]
    }
   ],
   "source": [
    "    \n",
    "def build_dataset(words):\n",
    "    block_size = 3 # context length: to support prediction\n",
    "\n",
    "    X, y = [], []\n",
    "\n",
    "    for w in words:\n",
    "        context = [0] * block_size\n",
    "        for ch in w + '.': \n",
    "            idx = stoi[ch]\n",
    "            X.append(context)\n",
    "            y.append(idx)\n",
    "            context = context[1:] + [idx]\n",
    "    X = torch.tensor(X)\n",
    "    y = torch.tensor(y)\n",
    "    print(X.shape, y.shape)\n",
    "    return X, y\n",
    "\n",
    "import random\n",
    "random.seed(42)\n",
    "random.shuffle(words)\n",
    "\n",
    "n1 = int(0.8*len(words))\n",
    "n2 = int(0.9*len(words))\n",
    "Xtrain, Ytrain = build_dataset(words[:n1])\n",
    "print('train size', n1)\n",
    "Xdev, Ydev = build_dataset(words[n1:n2])\n",
    "print('val size', n2-n1)\n",
    "Xtest, Ytest = build_dataset(words[n2:])\n",
    "print('test size', len(words)-n2)\n"
   ]
  },
  {
   "cell_type": "code",
   "execution_count": 261,
   "metadata": {},
   "outputs": [
    {
     "name": "stdout",
     "output_type": "stream",
     "text": [
      "54\n",
      "1200\n",
      "200\n",
      "5400\n",
      "27\n",
      "total: 6881\n"
     ]
    }
   ],
   "source": [
    "# MODEL \n",
    "\n",
    "# set random seed, initialisation of weights \n",
    "g = torch.Generator().manual_seed(2147483647)\n",
    "\n",
    "# embedding 27 vocab to 2 dimensions \n",
    "E = torch.randn((27, 2), generator=g)\n",
    "\n",
    "# weights \n",
    "# TODO; explore different hidden layers\n",
    "W1 = torch.randn((6, 200), generator=g)\n",
    "b1 = torch.randn(200, generator=g)\n",
    "\n",
    "W2 = torch.randn((200, 27), generator=g)\n",
    "b2 = torch.randn(27, generator=g)\n",
    "\n",
    "parameters = [E, W1, b1, W2, b2] \n",
    "\n",
    "for p in parameters: \n",
    "    print(p.nelement())\n",
    "\n",
    "for p in parameters: \n",
    "    p.requires_grad = True\n",
    "    \n",
    "# total \n",
    "print('total:', sum(p.nelement() for p in parameters))\n"
   ]
  },
  {
   "cell_type": "code",
   "execution_count": 263,
   "metadata": {},
   "outputs": [
    {
     "name": "stdout",
     "output_type": "stream",
     "text": [
      "tensor(3.1096, grad_fn=<NllLossBackward0>)\n"
     ]
    }
   ],
   "source": [
    "# lr_list = []\n",
    "# loss_list = []\n",
    "for i in range(100): \n",
    "\n",
    "    # mini batch construct: \n",
    "    # get samples of 32 data points to approximate data\n",
    "    # by indexing into dataset\n",
    "    idx = torch.randint(0, Xtrain.shape[0], (32, ))\n",
    "\n",
    "    # forward w cross entropy\n",
    "    emb = E[Xtrain[idx]]\n",
    "    h1 = torch.tanh(emb.view(emb.shape[0], 6) @ W1 + b1) #(32, 100)\n",
    "    logits = h1 @ W2 + b2 # (32, 27)\n",
    "    loss = F.cross_entropy(logits, Ytrain[idx])\n",
    "    # print(loss.item())\n",
    "    # backward pass \n",
    "    # reset gradients \n",
    "    for p in parameters: \n",
    "        p.grad = None\n",
    "    # call backward on loss function\n",
    "    loss.backward()\n",
    "    # lr = lrs[i]\n",
    "    lr = 0.1\n",
    "    for p in parameters: \n",
    "        p.data += -lr * p.grad\n",
    "print(loss)\n",
    "# 3.5327\n",
    "\n",
    "    # lr_list.append(lr)\n",
    "    # loss_list.append(loss.item())\n"
   ]
  },
  {
   "cell_type": "code",
   "execution_count": 265,
   "metadata": {},
   "outputs": [
    {
     "data": {
      "text/plain": [
       "tensor(3.5194, grad_fn=<NllLossBackward0>)"
      ]
     },
     "execution_count": 265,
     "metadata": {},
     "output_type": "execute_result"
    }
   ],
   "source": [
    "emb = E[Xtrain]\n",
    "h1 = torch.tanh(emb.view(emb.shape[0], 6) @ W1 + b1) #(32, 100)\n",
    "logits = h1 @ W2 + b2 # (32, 27)\n",
    "loss = F.cross_entropy(logits, Ytrain)\n",
    "loss"
   ]
  },
  {
   "cell_type": "code",
   "execution_count": 268,
   "metadata": {},
   "outputs": [
    {
     "data": {
      "text/plain": [
       "tensor(3.5305, grad_fn=<NllLossBackward0>)"
      ]
     },
     "execution_count": 268,
     "metadata": {},
     "output_type": "execute_result"
    }
   ],
   "source": [
    "emb = E[Xdev]\n",
    "h1 = torch.tanh(emb.view(emb.shape[0], 6) @ W1 + b1) #(32, 100)\n",
    "logits = h1 @ W2 + b2 # (32, 27)\n",
    "loss = F.cross_entropy(logits, Ydev)\n",
    "loss"
   ]
  },
  {
   "cell_type": "markdown",
   "metadata": {},
   "source": [
    "## Viz Embedding vectors\n",
    "- mine is quite different from his video..?\n",
    "- increase embedding size : \n",
    "    - (TBC) observe improvements of loss "
   ]
  },
  {
   "cell_type": "code",
   "execution_count": 270,
   "metadata": {},
   "outputs": [],
   "source": [
    "C = E"
   ]
  },
  {
   "cell_type": "code",
   "execution_count": 271,
   "metadata": {},
   "outputs": [
    {
     "data": {
      "image/png": "[encoded data removed]",
      "text/plain": [
       "<Figure size 800x800 with 1 Axes>"
      ]
     },
     "metadata": {},
     "output_type": "display_data"
    }
   ],
   "source": [
    "# visualize dimensions 0 and 1 of the embedding matrix C for all characters\n",
    "plt.figure(figsize=(8,8))\n",
    "plt.scatter(C[:,0].data, C[:,1].data, s=200)\n",
    "for i in range(C.shape[0]):\n",
    "    plt.text(C[i,0].item(), C[i,1].item(), itos[i], ha=\"center\", va=\"center\", color='white')\n",
    "plt.grid('minor')"
   ]
  },
  {
   "cell_type": "markdown",
   "metadata": {},
   "source": [
    "## Sample from Model "
   ]
  },
  {
   "cell_type": "code",
   "execution_count": 282,
   "metadata": {},
   "outputs": [
    {
     "name": "stdout",
     "output_type": "stream",
     "text": [
      "denzelinaleurtsoenn.\n",
      "yhnmvonimjdnaierlsndn.\n",
      "knn.\n",
      "g.\n",
      "dnniyauknatsrugotssmmdriellnio.\n",
      "nennednaknneakensede.\n",
      "eniaonnny.\n",
      "gene.\n",
      "mhgeaeenntallvou.\n",
      "dnd.\n",
      "dennenlnnynn.\n",
      "ivvnn.\n",
      "veidnnnnezkm.\n",
      "denn.\n",
      "mdent.\n",
      "geaelnshzdbssmrh.\n",
      "ducl.\n",
      "zen.\n",
      "nrnnln.\n",
      "meh.\n"
     ]
    }
   ],
   "source": [
    "g = torch.Generator().manual_seed(2147483647)\n",
    "\n",
    "for _ in range(20):\n",
    "    out = []\n",
    "    context = [0] * block_size\n",
    "    while True: \n",
    "        emb = E[context]\n",
    "        # print(emb) # (batch size, context length, embed dimension size)\n",
    "        # print(emb.shape) # note torch.view\n",
    "        h1 = torch.tanh(emb.view(1, -1) @ W1 + b1) #(32, 100)\n",
    "        logits = h1 @ W2 + b2 # (32, 27)\n",
    "        probs = F.softmax(logits, dim=1)\n",
    "        ix = torch.multinomial(probs, num_samples=1, generator=g).item()\n",
    "        context = context[1:] + [ix]\n",
    "        out.append(ix)\n",
    "        if ix == 0:\n",
    "            break\n",
    "\n",
    "    print(''.join(itos[i] for i in out))"
   ]
  },
  {
   "cell_type": "code",
   "execution_count": 278,
   "metadata": {},
   "outputs": [
    {
     "data": {
      "text/plain": [
       "torch.Size([6, 200])"
      ]
     },
     "execution_count": 278,
     "metadata": {},
     "output_type": "execute_result"
    }
   ],
   "source": [
    "W1.shape"
   ]
  },
  {
   "cell_type": "markdown",
   "metadata": {},
   "source": [
    "## Next steps: how to improve the loss\n",
    "- embedding size \n",
    "- size of neural net \n",
    "- context length\n",
    "- optimisation considerations: (?)\n",
    "    - how long you're training for, learning rate, \n",
    "    - what is the decay rate \n",
    "    - batch size,  "
   ]
  },
  {
   "cell_type": "markdown",
   "metadata": {},
   "source": [
    "### (TBC, to tidy up) nll vs cross entropy"
   ]
  },
  {
   "cell_type": "code",
   "execution_count": 197,
   "metadata": {},
   "outputs": [
    {
     "data": {
      "text/plain": [
       "tensor(17.7697)"
      ]
     },
     "execution_count": 197,
     "metadata": {},
     "output_type": "execute_result"
    }
   ],
   "source": [
    "# forward \n",
    "emb = E[X]\n",
    "h1 = torch.tanh(emb.view(emb.shape[0], 6) @ W1 + b1) #(32, 100)\n",
    "logits = h1 @ W2 + b2 # (32, 27)\n",
    "\n",
    "# classification (amongst)\n",
    "counts = logits.exp()\n",
    "prob = counts / counts.sum(1, keepdims=True)\n",
    "# neg log likelihood of the ground truths \n",
    "# TODO: why log again?\n",
    "# to max mle wrt to ground truths\n",
    "# TODO: need to compute entire dataset..? :\")\"\n",
    "loss = -prob[torch.arange(32), y].log().mean()\n",
    "loss"
   ]
  },
  {
   "cell_type": "code",
   "execution_count": 186,
   "metadata": {},
   "outputs": [
    {
     "data": {
      "text/plain": [
       "tensor(17.7697)"
      ]
     },
     "execution_count": 186,
     "metadata": {},
     "output_type": "execute_result"
    }
   ],
   "source": [
    "# forward w cross entropy\n",
    "emb = E[X]\n",
    "h1 = torch.tanh(emb.view(emb.shape[0], 6) @ W1 + b1) #(32, 100)\n",
    "logits = h1 @ W2 + b2 # (32, 27)\n",
    "loss = F.cross_entropy(logits, y)\n",
    "\n",
    "# backward pass \n",
    "# reset gradients \n",
    "for p in parameters: \n",
    "    p.grad = None\n",
    "# call backward on loss function\n",
    "loss.backward()\n",
    "\n",
    "for p in parameters: \n",
    "    p.data += -0.1 * p.grad\n"
   ]
  },
  {
   "cell_type": "code",
   "execution_count": 206,
   "metadata": {},
   "outputs": [],
   "source": [
    "for p in parameters: \n",
    "    p.requires_grad = True"
   ]
  },
  {
   "cell_type": "code",
   "execution_count": 228,
   "metadata": {},
   "outputs": [
    {
     "name": "stdout",
     "output_type": "stream",
     "text": [
      "5.292376518249512\n",
      "5.228204250335693\n",
      "5.165928840637207\n",
      "5.105469226837158\n",
      "5.046748161315918\n",
      "4.989699363708496\n",
      "4.934262275695801\n",
      "4.880381107330322\n",
      "4.828006744384766\n",
      "4.777096271514893\n",
      "4.727610111236572\n",
      "4.6795148849487305\n",
      "4.632780075073242\n",
      "4.5873799324035645\n",
      "4.543290138244629\n"
     ]
    },
    {
     "ename": "KeyboardInterrupt",
     "evalue": "",
     "output_type": "error",
     "traceback": [
      "\u001b[1;31m---------------------------------------------------------------------------\u001b[0m",
      "\u001b[1;31mKeyboardInterrupt\u001b[0m                         Traceback (most recent call last)",
      "Cell \u001b[1;32mIn[228], line 13\u001b[0m\n\u001b[0;32m     11\u001b[0m     p\u001b[38;5;241m.\u001b[39mgrad \u001b[38;5;241m=\u001b[39m \u001b[38;5;28;01mNone\u001b[39;00m\n\u001b[0;32m     12\u001b[0m \u001b[38;5;66;03m# call backward on loss function\u001b[39;00m\n\u001b[1;32m---> 13\u001b[0m \u001b[43mloss\u001b[49m\u001b[38;5;241;43m.\u001b[39;49m\u001b[43mbackward\u001b[49m\u001b[43m(\u001b[49m\u001b[43m)\u001b[49m\n\u001b[0;32m     15\u001b[0m \u001b[38;5;28;01mfor\u001b[39;00m p \u001b[38;5;129;01min\u001b[39;00m parameters: \n\u001b[0;32m     16\u001b[0m     p\u001b[38;5;241m.\u001b[39mdata \u001b[38;5;241m+\u001b[39m\u001b[38;5;241m=\u001b[39m \u001b[38;5;241m-\u001b[39m\u001b[38;5;241m0.1\u001b[39m \u001b[38;5;241m*\u001b[39m p\u001b[38;5;241m.\u001b[39mgrad\n",
      "File \u001b[1;32mc:\\Users\\User\\AppData\\Local\\Programs\\Python\\Python310\\lib\\site-packages\\torch\\_tensor.py:488\u001b[0m, in \u001b[0;36mTensor.backward\u001b[1;34m(self, gradient, retain_graph, create_graph, inputs)\u001b[0m\n\u001b[0;32m    478\u001b[0m \u001b[38;5;28;01mif\u001b[39;00m has_torch_function_unary(\u001b[38;5;28mself\u001b[39m):\n\u001b[0;32m    479\u001b[0m     \u001b[38;5;28;01mreturn\u001b[39;00m handle_torch_function(\n\u001b[0;32m    480\u001b[0m         Tensor\u001b[38;5;241m.\u001b[39mbackward,\n\u001b[0;32m    481\u001b[0m         (\u001b[38;5;28mself\u001b[39m,),\n\u001b[1;32m   (...)\u001b[0m\n\u001b[0;32m    486\u001b[0m         inputs\u001b[38;5;241m=\u001b[39minputs,\n\u001b[0;32m    487\u001b[0m     )\n\u001b[1;32m--> 488\u001b[0m \u001b[43mtorch\u001b[49m\u001b[38;5;241;43m.\u001b[39;49m\u001b[43mautograd\u001b[49m\u001b[38;5;241;43m.\u001b[39;49m\u001b[43mbackward\u001b[49m\u001b[43m(\u001b[49m\n\u001b[0;32m    489\u001b[0m \u001b[43m    \u001b[49m\u001b[38;5;28;43mself\u001b[39;49m\u001b[43m,\u001b[49m\u001b[43m \u001b[49m\u001b[43mgradient\u001b[49m\u001b[43m,\u001b[49m\u001b[43m \u001b[49m\u001b[43mretain_graph\u001b[49m\u001b[43m,\u001b[49m\u001b[43m \u001b[49m\u001b[43mcreate_graph\u001b[49m\u001b[43m,\u001b[49m\u001b[43m \u001b[49m\u001b[43minputs\u001b[49m\u001b[38;5;241;43m=\u001b[39;49m\u001b[43minputs\u001b[49m\n\u001b[0;32m    490\u001b[0m \u001b[43m\u001b[49m\u001b[43m)\u001b[49m\n",
      "File \u001b[1;32mc:\\Users\\User\\AppData\\Local\\Programs\\Python\\Python310\\lib\\site-packages\\torch\\autograd\\__init__.py:197\u001b[0m, in \u001b[0;36mbackward\u001b[1;34m(tensors, grad_tensors, retain_graph, create_graph, grad_variables, inputs)\u001b[0m\n\u001b[0;32m    192\u001b[0m     retain_graph \u001b[38;5;241m=\u001b[39m create_graph\n\u001b[0;32m    194\u001b[0m \u001b[38;5;66;03m# The reason we repeat same the comment below is that\u001b[39;00m\n\u001b[0;32m    195\u001b[0m \u001b[38;5;66;03m# some Python versions print out the first line of a multi-line function\u001b[39;00m\n\u001b[0;32m    196\u001b[0m \u001b[38;5;66;03m# calls in the traceback and some print out the last line\u001b[39;00m\n\u001b[1;32m--> 197\u001b[0m \u001b[43mVariable\u001b[49m\u001b[38;5;241;43m.\u001b[39;49m\u001b[43m_execution_engine\u001b[49m\u001b[38;5;241;43m.\u001b[39;49m\u001b[43mrun_backward\u001b[49m\u001b[43m(\u001b[49m\u001b[43m  \u001b[49m\u001b[38;5;66;43;03m# Calls into the C++ engine to run the backward pass\u001b[39;49;00m\n\u001b[0;32m    198\u001b[0m \u001b[43m    \u001b[49m\u001b[43mtensors\u001b[49m\u001b[43m,\u001b[49m\u001b[43m \u001b[49m\u001b[43mgrad_tensors_\u001b[49m\u001b[43m,\u001b[49m\u001b[43m \u001b[49m\u001b[43mretain_graph\u001b[49m\u001b[43m,\u001b[49m\u001b[43m \u001b[49m\u001b[43mcreate_graph\u001b[49m\u001b[43m,\u001b[49m\u001b[43m \u001b[49m\u001b[43minputs\u001b[49m\u001b[43m,\u001b[49m\n\u001b[0;32m    199\u001b[0m \u001b[43m    \u001b[49m\u001b[43mallow_unreachable\u001b[49m\u001b[38;5;241;43m=\u001b[39;49m\u001b[38;5;28;43;01mTrue\u001b[39;49;00m\u001b[43m,\u001b[49m\u001b[43m \u001b[49m\u001b[43maccumulate_grad\u001b[49m\u001b[38;5;241;43m=\u001b[39;49m\u001b[38;5;28;43;01mTrue\u001b[39;49;00m\u001b[43m)\u001b[49m\n",
      "\u001b[1;31mKeyboardInterrupt\u001b[0m: "
     ]
    }
   ],
   "source": [
    "for _ in range(1000): \n",
    "    # forward w cross entropy\n",
    "    emb = E[X]\n",
    "    h1 = torch.tanh(emb.view(emb.shape[0], 6) @ W1 + b1) #(32, 100)\n",
    "    logits = h1 @ W2 + b2 # (32, 27)\n",
    "    loss = F.cross_entropy(logits, y)\n",
    "    print(loss.item())\n",
    "    # backward pass \n",
    "    # reset gradients \n",
    "    for p in parameters: \n",
    "        p.grad = None\n",
    "    # call backward on loss function\n",
    "    loss.backward()\n",
    "\n",
    "    for p in parameters: \n",
    "        p.data += -0.1 * p.grad\n",
    "\n",
    "print(loss.item())"
   ]
  },
  {
   "cell_type": "code",
   "execution_count": 211,
   "metadata": {},
   "outputs": [
    {
     "data": {
      "text/plain": [
       "torch.return_types.max(\n",
       "values=tensor([11.8757, 14.7360, 19.4288, 18.6884, 14.4438, 11.8757, 13.9851, 12.5299,\n",
       "        14.2254, 16.2040, 13.6982, 18.7317, 11.8757, 14.4621, 15.1171, 17.8948,\n",
       "        11.8757, 14.6504, 12.6960, 14.5733, 16.6689, 13.5914,  8.8711,  8.8290,\n",
       "        14.3545, 11.8757, 14.3465, 14.8591, 11.5852, 14.8667, 16.7810, 13.3449],\n",
       "       grad_fn=<MaxBackward0>),\n",
       "indices=tensor([ 1, 13, 13,  1,  0,  1, 12,  9, 22,  9,  1,  0,  1, 22,  1,  0,  1, 19,\n",
       "         1,  2,  5, 12, 12,  1,  0,  1, 15, 16,  8,  9,  1,  0]))"
      ]
     },
     "execution_count": 211,
     "metadata": {},
     "output_type": "execute_result"
    }
   ],
   "source": [
    "logits.max(1)"
   ]
  },
  {
   "cell_type": "markdown",
   "metadata": {},
   "source": [
    "### how to decide learning rate \n",
    "- run optimisation step over a range of learning rate, starting from small to big.. \n",
    "- plot (loss against learning rate) and observe where the dip is"
   ]
  },
  {
   "cell_type": "markdown",
   "metadata": {},
   "source": [
    "### side note: pytroch internals \n",
    "- torch.view() - efficient\n",
    "- torch.storage()"
   ]
  },
  {
   "cell_type": "code",
   "execution_count": 129,
   "metadata": {},
   "outputs": [
    {
     "data": {
      "text/plain": [
       "tensor([ 0,  1,  2,  3,  4,  5,  6,  7,  8,  9, 10, 11, 12, 13, 14, 15, 16, 17])"
      ]
     },
     "execution_count": 129,
     "metadata": {},
     "output_type": "execute_result"
    }
   ],
   "source": [
    "a = torch.arange(18)\n",
    "a"
   ]
  },
  {
   "cell_type": "code",
   "execution_count": 130,
   "metadata": {},
   "outputs": [
    {
     "data": {
      "text/plain": [
       "tensor([[ 0,  1,  2,  3,  4,  5,  6,  7,  8],\n",
       "        [ 9, 10, 11, 12, 13, 14, 15, 16, 17]])"
      ]
     },
     "execution_count": 130,
     "metadata": {},
     "output_type": "execute_result"
    }
   ],
   "source": [
    "a.view(2, 9) #object separate from storage, that stores 'mulitdimensional' intepretation of the array \n",
    "# strides, ... etc"
   ]
  },
  {
   "cell_type": "code",
   "execution_count": 131,
   "metadata": {},
   "outputs": [
    {
     "data": {
      "text/plain": [
       " 0\n",
       " 1\n",
       " 2\n",
       " 3\n",
       " 4\n",
       " 5\n",
       " 6\n",
       " 7\n",
       " 8\n",
       " 9\n",
       " 10\n",
       " 11\n",
       " 12\n",
       " 13\n",
       " 14\n",
       " 15\n",
       " 16\n",
       " 17\n",
       "[torch.storage.TypedStorage(dtype=torch.int64, device=cpu) of size 18]"
      ]
     },
     "execution_count": 131,
     "metadata": {},
     "output_type": "execute_result"
    }
   ],
   "source": [
    "a.storage() #does not change, no matter our dimension representation"
   ]
  },
  {
   "cell_type": "markdown",
   "metadata": {},
   "source": [
    "### side note: nll loss function vs pytorch.cross_entropy\n",
    "- pytorch cross entropy: \n",
    "    - more efficient implementation (fused kernels..?)\n",
    "    - more efficient back prop\n",
    "    - more numerically well behaved: \n",
    "        - problem: positive extreme numbers have tendency to overflow, whilst negaitve numbers are ok (why?)\n",
    "        - pytroch solution: because there is normalisation, a constant offset does not affect the result \n",
    "        - hence pytorch subtracts max positive number as offset, for numerical stability"
   ]
  },
  {
   "cell_type": "code",
   "execution_count": null,
   "metadata": {},
   "outputs": [],
   "source": [
    "# gather parameters "
   ]
  },
  {
   "cell_type": "code",
   "execution_count": null,
   "metadata": {},
   "outputs": [],
   "source": [
    "# update and optimise "
   ]
  },
  {
   "cell_type": "markdown",
   "metadata": {},
   "source": []
  }
 ],
 "metadata": {
  "kernelspec": {
   "display_name": "Python 3",
   "language": "python",
   "name": "python3"
  },
  "language_info": {
   "codemirror_mode": {
    "name": "ipython",
    "version": 3
   },
   "file_extension": ".py",
   "mimetype": "text/x-python",
   "name": "python",
   "nbconvert_exporter": "python",
   "pygments_lexer": "ipython3",
   "version": "3.10.4"
  }
 },
 "nbformat": 4,
 "nbformat_minor": 2
}
