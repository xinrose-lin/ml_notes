{
 "cells": [
  {
   "cell_type": "code",
   "execution_count": 1,
   "metadata": {},
   "outputs": [
    {
     "name": "stderr",
     "output_type": "stream",
     "text": [
      "c:\\Users\\User\\AppData\\Local\\Programs\\Python\\Python310\\lib\\site-packages\\tqdm\\auto.py:22: TqdmWarning: IProgress not found. Please update jupyter and ipywidgets. See https://ipywidgets.readthedocs.io/en/stable/user_install.html\n",
      "  from .autonotebook import tqdm as notebook_tqdm\n"
     ]
    }
   ],
   "source": [
    "import torch\n",
    "import torch.nn.functional as F\n",
    "import matplotlib.pyplot as plt # for making figures\n",
    "%matplotlib inline"
   ]
  },
  {
   "cell_type": "markdown",
   "metadata": {},
   "source": [
    "### Create dataset: bigrams"
   ]
  },
  {
   "cell_type": "code",
   "execution_count": null,
   "metadata": {},
   "outputs": [],
   "source": []
  },
  {
   "cell_type": "markdown",
   "metadata": {},
   "source": [
    "## MLP optimisation idea: for lang modelling\n",
    "- logits: interpreting final layer output, as a log of counts (before it is transformed, into counts, then probabilities)\n",
    "\n",
    "- part 1: bigrams training\n",
    "    - estimate parameters: probability distribution for sampling: \n",
    "        - method 1:by counting (statistical/feature method): 2.47\n",
    "        - method 2: by NN: gradient based learning: also around 2.46\n",
    "            - with one hot encoding, it acts as index, into weights (logits output)\n",
    "    - model smoothing: creates a more uniform prob distribution, to prevent zero prob assigned to any token (but without causing too much loss in information)\n",
    "        - method 1: by adding 1 / a constant, to smooth the probability distribution (make it more uniform), to prevent extremes (eg. zeros)\n",
    "        - method 2:\n",
    "            - if W is initialised to the same value, (eg. zero, then logits w be zero, prob = 1)\n",
    "            - incentivising W to be near zero, \n",
    "            - by add W**2 as regularisation term to loss function; \n",
    "            - without overpowering W learning (loss term) by adding a constant to control the 'strength' of regularisation term\n",
    "        \n",
    "- step 2: MLP \n",
    "    - dataset: increase context length\n",
    "    - model: \n",
    "        - improved embedding \n",
    "        - \n",
    "    - model training: \n",
    "        - overfitting\n",
    "        - batch training\n",
    "        - learning rate\n",
    "        - train/val/test split\n",
    "\n",
    "    - experiments: (w design features)\n",
    "        - increase hidden layers, embed size..\n",
    "        - viz character embeddings O_O\n",
    "\n",
    "    - notes: hidden layers, internal of torch.tensor!\n",
    "\n",
    "- step 3: \n",
    "    - "
   ]
  },
  {
   "cell_type": "code",
   "execution_count": 24,
   "metadata": {},
   "outputs": [
    {
     "data": {
      "text/plain": [
       "torch.int64"
      ]
     },
     "execution_count": 24,
     "metadata": {},
     "output_type": "execute_result"
    }
   ],
   "source": [
    "xs = torch.tensor([0, 5, 13, 13, 1])\n",
    "\n",
    "ys = torch.tensor([5, 13, 13, 1, 0])\n",
    "ys.dtype"
   ]
  },
  {
   "cell_type": "code",
   "execution_count": 47,
   "metadata": {},
   "outputs": [
    {
     "data": {
      "text/plain": [
       "torch.float32"
      ]
     },
     "execution_count": 47,
     "metadata": {},
     "output_type": "execute_result"
    }
   ],
   "source": [
    "# INITIALISE NETWORK \n",
    "# random initialisation of 27 neuron weights \n",
    "g = torch.Generator().manual_seed(2147483647)\n",
    "W = torch.randn((27, 27), generator=g, requires_grad=True)\n",
    "W.dtype"
   ]
  },
  {
   "cell_type": "code",
   "execution_count": 55,
   "metadata": {},
   "outputs": [
    {
     "name": "stdout",
     "output_type": "stream",
     "text": [
      "torch.float32\n",
      "torch.float32\n"
     ]
    },
    {
     "data": {
      "text/plain": [
       "tensor(5.4286, grad_fn=<NegBackward0>)"
      ]
     },
     "execution_count": 55,
     "metadata": {},
     "output_type": "execute_result"
    }
   ],
   "source": [
    "# forward pass \n",
    "\n",
    "# one hot encoding (embedding, project data to dimension 27)\n",
    "xenc = F.one_hot(xs, num_classes=27).float()\n",
    "# SIDE_NOTE: requires same dtype\n",
    "print(xenc.dtype)\n",
    "print(W.dtype)\n",
    "\n",
    "# predict log counts (data * 27 @ 27 * 27)\n",
    "logits = xenc @ W\n",
    "# print(logits)\n",
    "# softmax: log exp ; and normalise - for prob of next token\n",
    "counts = logits.exp()\n",
    "probs = counts / counts.sum()\n",
    "\n",
    "# eval: avg neg log likelihood\n",
    "loss = -probs[torch.arange(5), ys].log().mean()"
   ]
  },
  {
   "cell_type": "code",
   "execution_count": 50,
   "metadata": {},
   "outputs": [],
   "source": [
    "## backward : compute gradients for all weights wrt to loss  \n",
    "W.grad = None\n",
    "loss.backward()"
   ]
  },
  {
   "cell_type": "code",
   "execution_count": 54,
   "metadata": {},
   "outputs": [],
   "source": [
    "# update parameters based on gradients, to min loss \n",
    "# with learning rate \n",
    "W.data += -0.1 * W.grad"
   ]
  },
  {
   "cell_type": "markdown",
   "metadata": {},
   "source": []
  },
  {
   "cell_type": "code",
   "execution_count": 38,
   "metadata": {},
   "outputs": [
    {
     "data": {
      "text/plain": [
       "(tensor(0.0039),\n",
       " tensor(0.0041),\n",
       " tensor(0.0042),\n",
       " tensor(0.0116),\n",
       " tensor(0.0021))"
      ]
     },
     "execution_count": 38,
     "metadata": {},
     "output_type": "execute_result"
    }
   ],
   "source": [
    "# loss : by average neg log likelihood \n",
    "# maximise likelihood of correct ground truth data \n",
    "# (by mle)\n",
    "\n",
    "# ground trutsh\n",
    "probs[0, 5], probs[1, 13], probs[2, 13], probs[3, 1], probs[4, 0]\n"
   ]
  },
  {
   "cell_type": "code",
   "execution_count": 40,
   "metadata": {},
   "outputs": [
    {
     "data": {
      "text/plain": [
       "tensor([0, 1, 2, 3, 4])"
      ]
     },
     "execution_count": 40,
     "metadata": {},
     "output_type": "execute_result"
    }
   ],
   "source": [
    "torch.arange(5)"
   ]
  },
  {
   "cell_type": "code",
   "execution_count": 41,
   "metadata": {},
   "outputs": [
    {
     "data": {
      "text/plain": [
       "tensor([0.0039, 0.0041, 0.0042, 0.0116, 0.0021])"
      ]
     },
     "execution_count": 41,
     "metadata": {},
     "output_type": "execute_result"
    }
   ],
   "source": [
    "# get average log likelihood\n",
    "# access by array \n",
    "probs[torch.arange(5), ys]"
   ]
  },
  {
   "cell_type": "code",
   "execution_count": 42,
   "metadata": {},
   "outputs": [
    {
     "data": {
      "text/plain": [
       "tensor(-5.4286)"
      ]
     },
     "execution_count": 42,
     "metadata": {},
     "output_type": "execute_result"
    }
   ],
   "source": [
    "probs[torch.arange(5), ys].log().mean()"
   ]
  },
  {
   "cell_type": "code",
   "execution_count": null,
   "metadata": {},
   "outputs": [],
   "source": [
    "## compile into final training script \n",
    "## sample from "
   ]
  },
  {
   "cell_type": "markdown",
   "metadata": {},
   "source": [
    "## Application to makemore"
   ]
  },
  {
   "cell_type": "code",
   "execution_count": 4,
   "metadata": {},
   "outputs": [
    {
     "data": {
      "text/plain": [
       "['emma', 'olivia', 'ava', 'isabella', 'sophia', 'charlotte', 'mia', 'amelia']"
      ]
     },
     "execution_count": 4,
     "metadata": {},
     "output_type": "execute_result"
    }
   ],
   "source": [
    "words = open('data/names.txt', 'r').read().splitlines()\n",
    "words[:8]\n"
   ]
  },
  {
   "cell_type": "code",
   "execution_count": 11,
   "metadata": {},
   "outputs": [
    {
     "name": "stdout",
     "output_type": "stream",
     "text": [
      "{0: 'a', 1: 'b', 2: 'c', 3: 'd', 4: 'e', 5: 'f', 6: 'g', 7: 'h', 8: 'i', 9: 'j', 10: 'k', 11: 'l', 12: 'm', 13: 'n', 14: 'o', 15: 'p', 16: 'q', 17: 'r', 18: 's', 19: 't', 20: 'u', 21: 'v', 22: 'w', 23: 'x', 24: 'y', 25: 'z'}\n"
     ]
    }
   ],
   "source": [
    "# build 'tokenizer' mapping \n",
    "chars = sorted(list(set(\"\".join(words))))\n",
    "stoi = {s:i for i, s in enumerate(chars)}\n",
    "# note end of line\n",
    "stoi['.'] = 0\n",
    "itos = {i:s for i, s in enumerate(chars)}\n",
    "print(itos)\n"
   ]
  },
  {
   "cell_type": "code",
   "execution_count": null,
   "metadata": {},
   "outputs": [],
   "source": [
    "# build dataset\n",
    "\n",
    "X, y = [], []\n",
    "\n",
    "for w in words: \n",
    "    "
   ]
  },
  {
   "cell_type": "code",
   "execution_count": null,
   "metadata": {},
   "outputs": [],
   "source": [
    "# model "
   ]
  },
  {
   "cell_type": "code",
   "execution_count": null,
   "metadata": {},
   "outputs": [],
   "source": [
    "# gather parameters "
   ]
  },
  {
   "cell_type": "code",
   "execution_count": null,
   "metadata": {},
   "outputs": [],
   "source": [
    "# update and optimise "
   ]
  }
 ],
 "metadata": {
  "kernelspec": {
   "display_name": "Python 3",
   "language": "python",
   "name": "python3"
  },
  "language_info": {
   "codemirror_mode": {
    "name": "ipython",
    "version": 3
   },
   "file_extension": ".py",
   "mimetype": "text/x-python",
   "name": "python",
   "nbconvert_exporter": "python",
   "pygments_lexer": "ipython3",
   "version": "3.10.4"
  }
 },
 "nbformat": 4,
 "nbformat_minor": 2
}
